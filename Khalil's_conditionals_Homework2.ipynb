{
  "nbformat": 4,
  "nbformat_minor": 0,
  "metadata": {
    "colab": {
      "name": "Khalil's conditionals Homework2.ipynb",
      "provenance": [],
      "collapsed_sections": [],
      "include_colab_link": true
    },
    "kernelspec": {
      "name": "python3",
      "display_name": "Python 3"
    }
  },
  "cells": [
    {
      "cell_type": "markdown",
      "metadata": {
        "id": "view-in-github",
        "colab_type": "text"
      },
      "source": [
        "<a href=\"https://colab.research.google.com/github/khalilabdulnour/PYTH225_Homework/blob/master/Khalil's_conditionals_Homework2.ipynb\" target=\"_parent\"><img src=\"https://colab.research.google.com/assets/colab-badge.svg\" alt=\"Open In Colab\"/></a>"
      ]
    },
    {
      "cell_type": "markdown",
      "metadata": {
        "id": "FiL9pv11VtnR",
        "colab_type": "text"
      },
      "source": [
        "#  CONDITIONALS\n",
        "\n",
        "\n"
      ]
    },
    {
      "cell_type": "markdown",
      "metadata": {
        "id": "gijpYMCLV00L",
        "colab_type": "text"
      },
      "source": [
        "## WEATHER"
      ]
    },
    {
      "cell_type": "markdown",
      "metadata": {
        "id": "KL7ytXn4V2WB",
        "colab_type": "text"
      },
      "source": [
        "### P1.PY"
      ]
    },
    {
      "cell_type": "code",
      "metadata": {
        "id": "e32ChHBAVtnU",
        "colab_type": "code",
        "colab": {}
      },
      "source": [
        "\"\"\"\n",
        "Weather I - Do you need boots?\n",
        "\"\"\"\n",
        "\n",
        "# Use the values of the vars defined below to ouput the correct contextual answer to the questions below. (Note: The variables themselves ARE the questions.)\n",
        "\n",
        "# Example:\n",
        "## am_i_hungry = False\n",
        "## am_i_tired = True\n",
        "## do_i_need_to_stay_awake = False\n",
        "\n",
        "## should_i_drink_coffee_now = am_i_tired and do_i_need_to_stay_awake\n",
        "\n",
        "## ^^ This ^^ evaluates to False. If you're tired and don't need to stay awake, you don't need to drink coffee!\n",
        "\n",
        "\n",
        "is_it_raining = True\n",
        "is_it_snowing = False\n",
        "\n",
        "\n",
        "do_i_need_snow_boots = (is_it_snowing is True)\n",
        "can_i_skip_snow_boots = (is_it_snowing is False)\n",
        "do_i_need_rain_boots = (is_it_raining is True)\n",
        "can_i_skip_rain_boots = (is_it_raining is False)"
      ],
      "execution_count": 0,
      "outputs": []
    },
    {
      "cell_type": "markdown",
      "metadata": {
        "id": "t9cxGL-8VtnX",
        "colab_type": "text"
      },
      "source": [
        "\n",
        "\n",
        "### P2.PY\n",
        "\n",
        "\n"
      ]
    },
    {
      "cell_type": "code",
      "metadata": {
        "id": "y80DTzliVtnY",
        "colab_type": "code",
        "colab": {}
      },
      "source": [
        "\"\"\"\n",
        "Weather II - Precipitation\n",
        "\"\"\"\n",
        "\n",
        "# Repeat the same process as p1, using this new set of variables.\n",
        "\n",
        "sunny = True\n",
        "raining = True\n",
        "snowing = False\n",
        "\n",
        "is_it_sunny = None\n",
        "is_there_precipitation = (raining == True) or (snowing == True)\n",
        "# or this way: is_there_preceipation = raining or snowing\n",
        "is_it_sleeting = raining and snowing\n",
        "is_there_rainbow = sunny and raining"
      ],
      "execution_count": 0,
      "outputs": []
    },
    {
      "cell_type": "markdown",
      "metadata": {
        "id": "777sx1WCVtno",
        "colab_type": "text"
      },
      "source": [
        "\n",
        "\n",
        "### P3.PY\n",
        "\n",
        "\n"
      ]
    },
    {
      "cell_type": "code",
      "metadata": {
        "id": "9dNGqX2wVtnp",
        "colab_type": "code",
        "colab": {}
      },
      "source": [
        "\"\"\"\n",
        "Weather III - Describe Conditions\n",
        "\"\"\"\n",
        "\n",
        "# Repeat the same process as p1, using this new set of variables.\n",
        "\n",
        "\n",
        "is_it_warm = True\n",
        "is_it_humid = True\n",
        "is_it_cold = False\n",
        "is_it_icy = False\n",
        "is_it_foggy = False\n",
        "is_it_windy = False\n",
        "is_it_overcast = True\n",
        "\n",
        "\n",
        "is_it_summer_weather = None\n",
        "is_rain_coming = None\n",
        "is_it_muggy = None\n",
        "do_i_need_coat = None\n",
        "\n"
      ],
      "execution_count": 0,
      "outputs": []
    },
    {
      "cell_type": "markdown",
      "metadata": {
        "id": "c70y61m1Vtn3",
        "colab_type": "text"
      },
      "source": [
        "## LOGIC\n",
        "\n",
        "\n"
      ]
    },
    {
      "cell_type": "markdown",
      "metadata": {
        "id": "6IGtJU8oV5a8",
        "colab_type": "text"
      },
      "source": [
        "### P1.PY"
      ]
    },
    {
      "cell_type": "code",
      "metadata": {
        "id": "8dx3WRHBVtn4",
        "colab_type": "code",
        "outputId": "4684ffe3-5d3b-4d26-df68-93b44194f7af",
        "colab": {
          "base_uri": "https://localhost:8080/",
          "height": 54
        }
      },
      "source": [
        "\"\"\"\n",
        "Calculate Grade\n",
        "\"\"\"\n",
        "\n",
        "# grade = 15  # expect this to be a number\n",
        "\n",
        "\"\"\"\n",
        "wwetwgetg\n",
        "\"\"\"\n",
        "\n",
        "\n",
        "# write a program that will print the \"letter\"\n",
        "# equivalent of the grade, for example:\n",
        "\n",
        "# when grade = 90 # -> expect A\n",
        "\n",
        "try:\n",
        "\n",
        "  grade = int(input('what is your grade?: '))\n",
        "\n",
        "  if 100 >= grade >= 90:\n",
        "    print(\"A\")\n",
        "\n",
        "# when grade = 80 # -> expect B\n",
        "  elif 90 > grade >= 80:\n",
        "    print('B')\n",
        "\n",
        "# when grade = 70 # -> expect C\n",
        "  elif 80 > grade >= 70:\n",
        "    print('c')\n",
        "\n",
        "# when grade = 60 # -> expect D\n",
        "  elif 70 > grade >= 60:\n",
        "    print('d')\n",
        "\n",
        "# when grade = 54 # -> expect F\n",
        "  elif 0 <= grade <= 59:\n",
        "    print('f')\n",
        "\n",
        "  else:\n",
        "    print('number must be between 0 and 100')\n",
        "\n",
        "except Exception as e:\n",
        "  print(\"enter number. not string\")\n",
        "\n",
        "\n",
        "# when grade = -10 # -> expect Error\n",
        "# when grade = 10000 # -> expect Error\n",
        "# when grade = \"lol skool sucks\" # -> expect Error\n",
        "\n",
        "# another way to do exceptions:\n",
        "# if type(grade) != int or float:\n",
        "# see lecture video \n",
        "\n",
        "# \"\"\"\n",
        "# ,jhbhubli\n",
        "\n",
        "# jgvkuhbk\n",
        "# \"\"\"\n",
        "# control ?\n"
      ],
      "execution_count": 0,
      "outputs": [
        {
          "output_type": "stream",
          "text": [
            "what is your grade?: qew4t\n",
            "enter number. not string\n"
          ],
          "name": "stdout"
        }
      ]
    },
    {
      "cell_type": "markdown",
      "metadata": {
        "id": "HLfJLQFKVtoK",
        "colab_type": "text"
      },
      "source": [
        "\n",
        "\n",
        "### P2.PY\n",
        "\n",
        "\n"
      ]
    },
    {
      "cell_type": "code",
      "metadata": {
        "id": "g3fT3CxqVtoO",
        "colab_type": "code",
        "outputId": "63f5db55-dd61-4a98-f8d1-21a4aa3495ca",
        "colab": {
          "base_uri": "https://localhost:8080/",
          "height": 34
        }
      },
      "source": [
        "\"\"\"\n",
        "Sign of Product\n",
        "\"\"\"\n",
        "\n",
        "# Given three numbers, a, b, c, without multiplying, determine the sign of their product.\n",
        "\n",
        "# EXAMPLE: a = -5, b = 6, c = -4, print 1\n",
        "\n",
        "\n",
        "\n",
        "a = 1\n",
        "b = -3\n",
        "c = 4\n",
        "\n",
        "if a < 0:\n",
        "  if b < 0:\n",
        "    if c < 0:\n",
        "      print(-1)\n",
        "    elif c > 0:\n",
        "      print(1)\n",
        "  elif b > 0:\n",
        "    if c < 0:\n",
        "      print(1)\n",
        "    elif c > 0:\n",
        "      print(-1)\n",
        "elif a > 0:\n",
        "  if b < 0:\n",
        "    if c < 0:\n",
        "      print(1)\n",
        "    elif c > 0:\n",
        "      print(-1)\n",
        "  elif b > 0:\n",
        "    if c > 0:\n",
        "      print(1)\n",
        "    elif c < 0:\n",
        "      print(-1)\n",
        "\n",
        "  \n",
        "\n",
        "# EXAMPLE: a = 5, b = 6, c = -4, print -1\n"
      ],
      "execution_count": 0,
      "outputs": [
        {
          "output_type": "stream",
          "text": [
            "-1\n"
          ],
          "name": "stdout"
        }
      ]
    },
    {
      "cell_type": "code",
      "metadata": {
        "id": "djKHKyo_WLgd",
        "colab_type": "code",
        "outputId": "f4d8f51d-bc3b-4553-af89-b842810ea026",
        "colab": {
          "base_uri": "https://localhost:8080/",
          "height": 54
        }
      },
      "source": [
        "\"\"\"\n",
        "P2.2\n",
        "Sign of Product\n",
        "\"\"\"\n",
        "\n",
        "# Given three numbers, a, b, c, without multiplying, determine the sign of their product.\n",
        "\n",
        "# EXAMPLE: a = -5, b = 6, c = -4, print 1\n",
        "\n",
        "\n",
        "a = -1\n",
        "b = -1\n",
        "c = -1\n",
        "\n",
        "is_a_negative = a < 0\n",
        "is_b_negative = b < 0\n",
        "is_c_negative = c < 0\n",
        "\n",
        "summed = int(is_a_negative) + int(is_b_negative) + int(is_c_negative)\n",
        "if summed == 1 or summed == 3:\n",
        "  print(\"negative\")\n",
        "else:\n",
        "  print(\"positive\")\n",
        "\n",
        "print(a*b*c)"
      ],
      "execution_count": 0,
      "outputs": [
        {
          "output_type": "stream",
          "text": [
            "negative\n",
            "-1\n"
          ],
          "name": "stdout"
        }
      ]
    },
    {
      "cell_type": "markdown",
      "metadata": {
        "id": "eUuhYKriVtoS",
        "colab_type": "text"
      },
      "source": [
        "\n",
        "\n",
        "### P3.PY\n",
        "\n",
        "\n"
      ]
    },
    {
      "cell_type": "code",
      "metadata": {
        "id": "gtAMAAaYVtoT",
        "colab_type": "code",
        "outputId": "91c87ada-59ee-4f28-ab86-b52cad56dcba",
        "colab": {
          "base_uri": "https://localhost:8080/",
          "height": 34
        }
      },
      "source": [
        "\"\"\"\"\n",
        "Any Uppercase\n",
        "\"\"\"\n",
        "\n",
        "# Given a string str, determine if there are any uppercase values in it. Use only conditional statements and string methods (you may have to look some up!)\n",
        "\n",
        "# EXAMPLE: str = \"teSt\", print True\n",
        "\n",
        "str1 = 'Hello, '\n",
        "print(any(c.isupper() for c in str1))\n",
        "\n",
        "# https://www.w3resource.com/python-exercises/python-basic-exercise-128.php \n"
      ],
      "execution_count": 0,
      "outputs": [
        {
          "output_type": "stream",
          "text": [
            "True\n"
          ],
          "name": "stdout"
        }
      ]
    },
    {
      "cell_type": "markdown",
      "metadata": {
        "id": "wG8CE6QTVtoW",
        "colab_type": "text"
      },
      "source": [
        "\n",
        "\n",
        "### P4.PY\n",
        "\n",
        "\n"
      ]
    },
    {
      "cell_type": "code",
      "metadata": {
        "id": "xZ5Mt4jSVtoX",
        "colab_type": "code",
        "outputId": "ef620e2d-369f-464d-8879-2c03dc6dbfd1",
        "colab": {
          "base_uri": "https://localhost:8080/",
          "height": 35
        }
      },
      "source": [
        "# Empty Strings\n",
        "\n",
        "# Given any empty string, of the form:\n",
        "\n",
        "# ''\n",
        "# ' '\n",
        "# '  '\n",
        "# any other num of spaces...\n",
        "\n",
        "# determine if the str is empty or not (print True or False). Hint: You'll need to look up how to remove trailing spaces from a string.\n",
        "\n",
        "# ''\n",
        "# str1 = 'drgs'\n",
        "# if not str1:\n",
        "#   print('True')\n",
        "# else:\n",
        "#   print('False')\n",
        "\n",
        "string1 = \"     \"\n",
        "if string1.strip() == '':\n",
        "  print('true')\n",
        "else:\n",
        "  print('false')"
      ],
      "execution_count": 0,
      "outputs": [
        {
          "output_type": "stream",
          "text": [
            "true\n"
          ],
          "name": "stdout"
        }
      ]
    },
    {
      "cell_type": "markdown",
      "metadata": {
        "id": "WlgQdALoVtof",
        "colab_type": "text"
      },
      "source": [
        "\n",
        "\n",
        "### P5.PY\n",
        "\n",
        "\n"
      ]
    },
    {
      "cell_type": "code",
      "metadata": {
        "id": "7_k9rebsVtog",
        "colab_type": "code",
        "colab": {}
      },
      "source": [
        "\"\"\"\n",
        "truthTableEvaluator\n",
        "\"\"\"\n",
        "\n",
        "# Given the following inputs:\n",
        "\n",
        "# P = # True or False\n",
        "# Q = # True or False\n",
        "# op = # '^' (logical AND, conjunction)\n",
        "#      # OR, 'v' (logical OR, disjunction)\n",
        "#      # OR, '->' (logical conditional, implication)\n",
        "#      # OR, '<->' (biconditional)\n",
        "# determine the correct outcome.\n",
        "\n",
        "# https://medium.com/i-math/intro-to-truth-tables-boolean-algebra-73b331dd9b94\n"
      ],
      "execution_count": 0,
      "outputs": []
    },
    {
      "cell_type": "markdown",
      "metadata": {
        "id": "zayFQdU7Vto2",
        "colab_type": "text"
      },
      "source": [
        "## RANDOM NUMBERS\n",
        "\n",
        "\n",
        "\n",
        "\n"
      ]
    },
    {
      "cell_type": "markdown",
      "metadata": {
        "id": "gtAK4fQAV9BC",
        "colab_type": "text"
      },
      "source": [
        "### P1.PY"
      ]
    },
    {
      "cell_type": "code",
      "metadata": {
        "id": "_dlFvP4QVto3",
        "colab_type": "code",
        "outputId": "02e3dcfe-6994-4182-e48a-87fd7590bb67",
        "colab": {
          "base_uri": "https://localhost:8080/",
          "height": 54
        }
      },
      "source": [
        "\"\"\"\n",
        "Generate Traffic Light\n",
        "\"\"\"\n",
        "\n",
        "# import python randomint package\n",
        "from random import randint\n",
        "\n",
        "# generates a random number from 1 to 3\n",
        "\n",
        "number = randint(1,3)\n",
        "print(number)\n",
        "\n",
        "# if 1, print 'red'\n",
        "# if 2, print 'green',\n",
        "# if 3, print 'yellow'\n",
        "\n",
        "if number == 1:\n",
        "  print(\"red\")\n",
        "elif number == 2:\n",
        "  print(\"green\")\n",
        "elif number == 3:\n",
        "  print(\"yellow\")\n"
      ],
      "execution_count": 0,
      "outputs": [
        {
          "output_type": "stream",
          "text": [
            "2\n",
            "green\n"
          ],
          "name": "stdout"
        }
      ]
    },
    {
      "cell_type": "markdown",
      "metadata": {
        "id": "nO0LSd8SVto5",
        "colab_type": "text"
      },
      "source": [
        "\n",
        "\n",
        "### P2.PY\n",
        "\n",
        "\n"
      ]
    },
    {
      "cell_type": "code",
      "metadata": {
        "id": "Dp5jFc2fVtpF",
        "colab_type": "code",
        "outputId": "73e25808-87bd-4b06-e50a-75ff14b9f7fd",
        "colab": {
          "base_uri": "https://localhost:8080/",
          "height": 35
        }
      },
      "source": [
        "\"\"\"\n",
        "Generate Phone Number w/Area Code\n",
        "\n",
        "teacher's code:\n",
        "\n",
        "from random import randint\n",
        "\n",
        "areacode = randint(1, 3)\n",
        "\n",
        "str_ = \"1-\"\n",
        "if areacode == 1:\n",
        "    str_ += \"718\"\n",
        "if areacode == 2:\n",
        "    str_ += \"646\"\n",
        "if areacode == 3:\n",
        "    str_ += \"212\"\n",
        "\n",
        "str_ += f\"-{randint(100,999)}-{randint(1000,9999)}\"\n",
        "\n",
        "print(str_)\n",
        "\"\"\"\n",
        "\n",
        "# Generate a random phone number using these SPECS:\n",
        "### Should be a string in this format: 1-718-786-2825\n",
        "### Must randomly choose one of these area codes: 646, 718, 212\n",
        "\n",
        "import random\n",
        "\n",
        "areas = [646, 718, 212]\n",
        "\n",
        "firstnum = f'{random.randrange(0, 10**3):03}'\n",
        "\n",
        "# what is the ':' for in \"(0, 10**3):03}\"?\n",
        "\n",
        "secondnum = f'{random.randrange(0, 10**4):04}'\n",
        "\n",
        "print(1, '-', random.choice(areas), '-', firstnum,'-', secondnum, sep = '')\n",
        "\n",
        "# for random numbers: \n",
        "# https://stackoverflow.com/questions/2673385/how-to-generate-random-number-with-the-specific-length-in-python\n",
        "\n",
        "# to remove spaces:\n",
        "# https://stackoverflow.com/questions/28669459/how-to-print-variables-without-spaces-between-values\n",
        "\n"
      ],
      "execution_count": 0,
      "outputs": [
        {
          "output_type": "stream",
          "text": [
            "1-212-032-7173\n"
          ],
          "name": "stdout"
        }
      ]
    },
    {
      "cell_type": "markdown",
      "metadata": {
        "id": "gRweE3nDVtpK",
        "colab_type": "text"
      },
      "source": [
        "## RPS\n",
        "\n",
        "\n"
      ]
    },
    {
      "cell_type": "markdown",
      "metadata": {
        "id": "IFUwrDumV_Vn",
        "colab_type": "text"
      },
      "source": [
        "### P1.PY"
      ]
    },
    {
      "cell_type": "code",
      "metadata": {
        "id": "sYTmAYzDVtpL",
        "colab_type": "code",
        "outputId": "d1f6d1ce-23bb-4a0a-9a49-310bcf173cca",
        "colab": {
          "base_uri": "https://localhost:8080/",
          "height": 72
        }
      },
      "source": [
        "\"\"\"\n",
        "Play RPS\n",
        "\"\"\"\n",
        "\n",
        "# p1 = 'r'  # or 'p' or 's'\n",
        "# p2 = 'r'  # or 'p' or 's'\n",
        "\n",
        "# Given a p1 and p2\n",
        "# print 1 if p1 has won\n",
        "# print 2 if p2 has won\n",
        "# print 0 if tie\n",
        "# print -1 if invalid input\n",
        "# expects both p1 and p2 inputs to be either\n",
        "# \"r\", \"p\", or \"s\"\n",
        "\n",
        "import random\n",
        "p1 = random.choice(['r','p','s'])\n",
        "p2 = random.choice(['r','p','s'])\n",
        "\n",
        "print(f'p1 has: {p1}')\n",
        "print(f'p2 has: {p2}')\n",
        "\n",
        "if p1 == p2:\n",
        "  print('tie')\n",
        "elif p1 == 'r' and p2 == 's':\n",
        "  print('p1 won')\n",
        "elif p1 == 'r' and p2 == 'p':\n",
        "  print ('p2 won')\n",
        "elif p1 == 'p' and p2 == 'r':\n",
        "  print('p2 won')\n",
        "elif p1 == 'p' and p2 == 's':\n",
        "  print('p2 won')\n",
        "elif p1 == 's' and p2 == 'r':\n",
        "  print('p2 won')\n",
        "elif p1 == 's' and p2 == 'p':\n",
        "  print('p1 won')\n",
        "\n",
        "\n",
        "\n",
        "\n",
        "\n"
      ],
      "execution_count": 0,
      "outputs": [
        {
          "output_type": "stream",
          "text": [
            "p1 has: s\n",
            "p2 has: r\n",
            "p2 won\n"
          ],
          "name": "stdout"
        }
      ]
    },
    {
      "cell_type": "markdown",
      "metadata": {
        "id": "fp77AykMVtpN",
        "colab_type": "text"
      },
      "source": [
        "\n",
        "\n",
        "### P2.PY\n",
        "\n",
        "\n"
      ]
    },
    {
      "cell_type": "code",
      "metadata": {
        "id": "mKMaxGH8VtpO",
        "colab_type": "code",
        "colab": {}
      },
      "source": [
        "\"\"\"\n",
        "Play RPS w/Computer\n",
        "\"\"\"\n",
        "\n",
        "import random\n",
        "\n",
        "p1 = None  # randomly choose 'r' or 'p' or 's'\n",
        "p2 = None  # randomly choose 'r' or 'p' or 's'\n",
        "\n",
        "# Given a p1 and p2\n",
        "# print 1 if p1 has won\n",
        "# print 2 if p2 has won\n",
        "# print 0 if tie\n",
        "# print -1 if invalid input\n",
        "# expects both p1 and p2 inputs to be either\n",
        "# \"r\", \"p\", or \"s\"\n",
        "\n",
        "# solution in p1\n"
      ],
      "execution_count": 0,
      "outputs": []
    },
    {
      "cell_type": "markdown",
      "metadata": {
        "id": "INgOFvdoVtpU",
        "colab_type": "text"
      },
      "source": [
        "\n",
        "\n",
        "### P3.PY\n",
        "\n",
        "\n"
      ]
    },
    {
      "cell_type": "code",
      "metadata": {
        "id": "vhAAHjMSVtpV",
        "colab_type": "code",
        "outputId": "a94d4a53-a005-4d31-e2d7-6c16f1c8f64f",
        "colab": {
          "base_uri": "https://localhost:8080/",
          "height": 135
        }
      },
      "source": [
        "\"\"\"\n",
        "Play RPS w/Input\n",
        "\"\"\"\n",
        "# Given a p1 and p2\n",
        "# print 1 if p1 has won\n",
        "# print 2 if p2 has won\n",
        "# print 0 if tie\n",
        "# print -1 if invalid input\n",
        "# expects both p1 and p2 inputs to be either\n",
        "# \"r\", \"p\", or \"s\"\n",
        "\n",
        "\n",
        "# list1 = ['r', 'p', 's']\n",
        "\n",
        "# def is_victory():\n",
        "#   if p1 == p2:\n",
        "#     print('tie')\n",
        "#   elif p1 == 'r' and p2 == 's':\n",
        "#     print('p1 won')\n",
        "#   elif p1 == 'r' and p2 == 'p':\n",
        "#     print ('p2 won')\n",
        "#   elif p1 == 'p' and p2 == 'r':      \n",
        "#     print('p2 won')\n",
        "#   elif p1 == 'p' and p2 == 's':\n",
        "#     print('p2 won')\n",
        "#   elif p1 == 's' and p2 == 'r':\n",
        "#     print('p2 won')\n",
        "#   elif p1 == 's' and p2 == 'p':\n",
        "#     print('p1 won')\n",
        "#   else:\n",
        "#     print(\"that's not an option\")\n",
        "\n",
        "# while True:\n",
        "#   print(\"your move player {}\".format)\n",
        "\n",
        "#   choice = input('p1: r, p, or s? ')\n",
        "#   if type(p1) != str:\n",
        "#     print(\"entry not valid\")\n",
        "#       return player_move()\n",
        "\n",
        "  # p1 = input('p1: r, p, or s? ')\n",
        "  # if type(p1) != str:\n",
        "  #   print(\"entry not valid\")\n",
        "  #   return \n",
        "\n",
        "  # p2 = input('p2: r, p, or s? ')\n",
        "\n"
      ],
      "execution_count": 0,
      "outputs": [
        {
          "output_type": "error",
          "ename": "IndentationError",
          "evalue": "ignored",
          "traceback": [
            "\u001b[0;36m  File \u001b[0;32m\"<ipython-input-40-363b1427f5bc>\"\u001b[0;36m, line \u001b[0;32m39\u001b[0m\n\u001b[0;31m    return player_move()\u001b[0m\n\u001b[0m    ^\u001b[0m\n\u001b[0;31mIndentationError\u001b[0m\u001b[0;31m:\u001b[0m unexpected indent\n"
          ]
        }
      ]
    },
    {
      "cell_type": "code",
      "metadata": {
        "id": "VKkfFp8g-Xnp",
        "colab_type": "code",
        "outputId": "36b34c0b-1f82-48cf-85b4-27aa690a8183",
        "colab": {
          "base_uri": "https://localhost:8080/",
          "height": 182
        }
      },
      "source": [
        "\"\"\"\n",
        "p3 \n",
        "Play RPS w/Input\n",
        "\"\"\"\n",
        "\n",
        "p1 = input(\"Player 1 input (r, p or s): \")[0].lower()  # from user input\n",
        "while p1 not in [\"r\", \"p\", \"s\"]:\n",
        "  print(\"p1 input format is incorrect, try again\")\n",
        "  p1 = input(\"Player 1 input (r, p or s): \")[0].lower()\n",
        "\n",
        "\n",
        "p2 = input(\"Player 2 input (r, p or s): \")[0].lower()\n",
        "while p2 not in [\"r\", \"p\", \"s\"]:\n",
        "  print(\"p2 input format is incorrect, try again\")\n",
        "  p2 = input(\"Player 2 input (r, p or s): \")[0].lower()\n",
        "\n",
        "# write your actual game logic\n",
        "if p1 == p2:\n",
        "  print('tie')\n",
        "elif p1 == 'r' and p2 == 's':\n",
        "  print('p1 won')\n",
        "elif p1 == 'r' and p2 == 'p':\n",
        "  print ('p2 won')\n",
        "elif p1 == 'p' and p2 == 'r':      \n",
        "  print('p2 won')\n",
        "elif p1 == 'p' and p2 == 's':\n",
        "  print('p2 won')\n",
        "elif p1 == 's' and p2 == 'r':\n",
        "  print('p2 won')\n",
        "elif p1 == 's' and p2 == 'p':\n",
        "  print('p1 won')\n",
        "else:\n",
        "  print(\"that's not an option\")\n"
      ],
      "execution_count": 0,
      "outputs": [
        {
          "output_type": "stream",
          "text": [
            "Player 1 input (r, p or s): kqejhgrqeork\n",
            "p1 input format is incorrect, try again\n",
            "Player 1 input (r, p or s): 4\n",
            "p1 input format is incorrect, try again\n",
            "Player 1 input (r, p or s): 5\n",
            "p1 input format is incorrect, try again\n",
            "Player 1 input (r, p or s): R\n",
            "Player 2 input (r, p or s): S\n",
            "p1 won\n"
          ],
          "name": "stdout"
        }
      ]
    },
    {
      "cell_type": "markdown",
      "metadata": {
        "id": "SUqNu57OVtpY",
        "colab_type": "text"
      },
      "source": [
        "\n",
        "\n",
        "### P4.PY\n",
        "\n",
        "\n"
      ]
    },
    {
      "cell_type": "code",
      "metadata": {
        "id": "Vmlr5AqSVtpY",
        "colab_type": "code",
        "outputId": "e614a55c-5e25-4190-c9b5-caa74c7ff7a7",
        "colab": {
          "base_uri": "https://localhost:8080/",
          "height": 72
        }
      },
      "source": [
        "\"\"\"\n",
        "Play RPS against Computer\n",
        "\"\"\"\n",
        "\n",
        "# p1 = None  # from user input - we still want validation from above!\n",
        "# p2 = None  # randomly generated against computer\n",
        "\n",
        "# Given a p1 and p2\n",
        "# print 1 if p1 has won\n",
        "# print 2 if p2 has won\n",
        "# print 0 if tie\n",
        "# print -1 if invalid input\n",
        "# expects both p1 and p2 inputs to be either\n",
        "# \"r\", \"p\", or \"s\"\n",
        "\n",
        "import random\n",
        "\n",
        "list = ['r', 'p', 's']\n",
        "p1 = input('p1 pick: r, p, or s? ')\n",
        "p2 = random.choice(list)\n",
        "\n",
        "print(f'p2 has: {p2}')\n",
        "\n",
        "if p1 == p2:\n",
        "  print('tie')\n",
        "elif p1 == 'r' and p2 == 's':\n",
        "  print('p1 won')\n",
        "elif p1 == 'r' and p2 == 'p':\n",
        "  print ('p2 won')\n",
        "elif p1 == 'p' and p2 == 'r':\n",
        "  print('p2 won')\n",
        "elif p1 == 'p' and p2 == 's':\n",
        "  print('p2 won')\n",
        "elif p1 == 's' and p2 == 'r':\n",
        "  print('p2 won')\n",
        "elif p1 == 's' and p2 == 'p':\n",
        "  print('p1 won')\n",
        "else:\n",
        "  print(\"that's not an option\")\n",
        "  "
      ],
      "execution_count": 0,
      "outputs": [
        {
          "output_type": "stream",
          "text": [
            "p1 pick: r, p, or s? r\n",
            "p2 has: s\n",
            "p1 won\n"
          ],
          "name": "stdout"
        }
      ]
    },
    {
      "cell_type": "markdown",
      "metadata": {
        "id": "F_7aaMtoVtpt",
        "colab_type": "text"
      },
      "source": [
        "\n",
        "\n",
        "### P5.PY\n",
        "\n",
        "\n"
      ]
    },
    {
      "cell_type": "code",
      "metadata": {
        "id": "U24EGu3VVtpu",
        "colab_type": "code",
        "colab": {}
      },
      "source": [
        "\"\"\"\n",
        "Play RPS w/Bad Input\n",
        "\"\"\"\n",
        "\n",
        "# p1 = None  # can be invalid!\n",
        "# p2 = None  # can be invalid!\n",
        "\n",
        "\"\"\"\n",
        "This is the same as the original RPS problem, \n",
        "except that cannot expect the input to be valid. \n",
        "While we *want* `r` or `p` or `s`, there is a possibility \n",
        "that input can be anything like...\n",
        "\n",
        "* `ROCK` (all caps)\n",
        "* `R` (`r` but capitalized)\n",
        "* `PAPrrRR` (incorrectly spelled, upper/lowercased)\n",
        "\n",
        "Implement conditional statements that will sanitize the \n",
        "user input or let user know that input is invalid.\n",
        "\"\"\"\n",
        "\n",
        "p1 = input('p1: r, p, or s? ')[0].lower()\n",
        "while p1 not in [\"r\", \"p\", \"s\"] or p:\n",
        "  print('thats not an option. try again')\n",
        "  p1 = input('p1: r, p, or s? ')\n",
        "\n",
        "p2 = input('p2: r, p, or s? ')[0].lower()\n",
        "while p2 not in [\"r\", \"p\", \"s\"]:\n",
        "  print('thats not an option. try again')\n",
        "  p2 = input('p1: r, p, or s? ')\n",
        "\n",
        "# p1 = p1[0].lower()\n",
        "# p2 = p2[0].lower()\n",
        "\n",
        "if p1 not in \"rps\":\n",
        "  raise Exception('type IN correct format.')\n",
        "\n",
        "if p2 not in \"rps\":\n",
        "  raise Exception('type in correct format.')\n",
        "\n",
        "if p2 == 'r' or 'p' or 's':\n",
        "  True\n",
        "else: print('type correct format.')\n",
        "\n",
        "if p1 == p2:\n",
        "  print('tie')\n",
        "elif p1 == 'r' and p2 == 's':\n",
        "  print('p1 won')\n",
        "elif p1 == 'r' and p2 == 'p':\n",
        "  print ('p2 won')\n",
        "elif p1 == 'p' and p2 == 'r':\n",
        "  print('p2 won')\n",
        "elif p1 == 'p' and p2 == 's':\n",
        "  print('p2 won')\n",
        "elif p1 == 's' and p2 == 'r':\n",
        "  print('p2 won')\n",
        "elif p1 == 's' and p2 == 'p':\n",
        "  print('p1 won')\n",
        "else:\n",
        "  print(\"that's not an option\")\n"
      ],
      "execution_count": 0,
      "outputs": []
    }
  ]
}