{
  "nbformat": 4,
  "nbformat_minor": 0,
  "metadata": {
    "colab": {
      "name": "Khalil - lists_psets HW.ipynb",
      "provenance": [],
      "collapsed_sections": [
        "m40a2IGVVI_-",
        "fyknlYbQVJAj"
      ],
      "toc_visible": true,
      "include_colab_link": true
    },
    "kernelspec": {
      "name": "python3",
      "display_name": "Python 3"
    }
  },
  "cells": [
    {
      "cell_type": "markdown",
      "metadata": {
        "id": "view-in-github",
        "colab_type": "text"
      },
      "source": [
        "<a href=\"https://colab.research.google.com/github/khalilabdulnour/PYTH225_Homework/blob/master/PYTH225_KhaleelAbdulnour.ipynb\" target=\"_parent\"><img src=\"https://colab.research.google.com/assets/colab-badge.svg\" alt=\"Open In Colab\"/></a>"
      ]
    },
    {
      "cell_type": "markdown",
      "metadata": {
        "id": "Yr_KNJCvVI_l",
        "colab_type": "text"
      },
      "source": [
        "#  LISTS"
      ]
    },
    {
      "cell_type": "markdown",
      "metadata": {
        "id": "wnygsOhDVRof",
        "colab_type": "text"
      },
      "source": [
        "## LIST OPS"
      ]
    },
    {
      "cell_type": "markdown",
      "metadata": {
        "id": "3YuVvl6vVSvP",
        "colab_type": "text"
      },
      "source": [
        "### P1.PY"
      ]
    },
    {
      "cell_type": "code",
      "metadata": {
        "id": "Ir33rYgDVI_m",
        "colab_type": "code",
        "outputId": "71cd4402-ed76-4be1-cd58-0c51bbeffb73",
        "colab": {
          "base_uri": "https://localhost:8080/",
          "height": 109
        }
      },
      "source": [
        "\"\"\"\n",
        "Basic List Operations I\n",
        "\"\"\"\n",
        "\n",
        "# Create a list including these five animals - elephant, tiger, otter, orangutan, and penguin.\n",
        "\n",
        "animals = ['elephant','tiger','otter','orangutang','penguin']\n",
        "\n",
        "\n",
        "# Print the 4th animal on the list.\n",
        "print(animals[3])\n",
        "\n",
        "# Add 'tortoise' to the beginning of the list.\n",
        "\n",
        "animals.insert(0,'tortoise')\n",
        "print(animals)\n",
        "\n",
        "# Print the length of the list.\n",
        "\n",
        "print(len(animals))\n",
        "\n",
        "# Remove 'orangutan' from the list.\n",
        "animals.pop(4)\n",
        "print(animals)\n",
        "\n",
        "# Sort the list alphabetically and print it out.\n",
        "animals.sort()\n",
        "print(animals)"
      ],
      "execution_count": 0,
      "outputs": [
        {
          "output_type": "stream",
          "text": [
            "orangutang\n",
            "['tortoise', 'elephant', 'tiger', 'otter', 'orangutang', 'penguin']\n",
            "6\n",
            "['tortoise', 'elephant', 'tiger', 'otter', 'penguin']\n",
            "['elephant', 'otter', 'penguin', 'tiger', 'tortoise']\n"
          ],
          "name": "stdout"
        }
      ]
    },
    {
      "cell_type": "markdown",
      "metadata": {
        "id": "iopPhVNUVI_p",
        "colab_type": "text"
      },
      "source": [
        "\n",
        "\n",
        "### P2.PY\n",
        "\n",
        "\n"
      ]
    },
    {
      "cell_type": "code",
      "metadata": {
        "id": "4kMd_uBjVI_q",
        "colab_type": "code",
        "outputId": "f24f057f-f595-44c5-9ba9-ecfff12f488e",
        "colab": {
          "base_uri": "https://localhost:8080/",
          "height": 127
        }
      },
      "source": [
        "\"\"\"\n",
        "Basic List Operations II\n",
        "\"\"\"\n",
        "\n",
        "# Declare a list with 5 names, and print out the length of that list.\n",
        "\n",
        "names = ['khal','dave','connor','taq','andy']\n",
        "\n",
        "print(len(names))\n",
        "\n",
        "# Print the 3rd name on the list\n",
        "\n",
        "print(names[2])\n",
        "\n",
        "# Delete the first name on the list\n",
        "\n",
        "names.pop(0)\n",
        "print(names)\n",
        "\n",
        "\n",
        "# Re-add the name you deleted to the end of the list\n",
        "\n",
        "names.append('khal')\n",
        "print(names)\n",
        "\n",
        "# Replace the 2nd name on the list with a new name.\n",
        "\n",
        "names[1] = 'vitor'\n",
        "print(names)\n",
        "\n",
        "# Add 3 new names to the end of the list.\n",
        "\n",
        "names2 = ('trevor', 'mohammad','george')\n",
        "names.extend(names2)\n",
        "print(names)\n"
      ],
      "execution_count": 0,
      "outputs": [
        {
          "output_type": "stream",
          "text": [
            "5\n",
            "connor\n",
            "['dave', 'connor', 'taq', 'andy']\n",
            "['dave', 'connor', 'taq', 'andy', 'khal']\n",
            "['dave', 'vitor', 'taq', 'andy', 'khal']\n",
            "['dave', 'vitor', 'taq', 'andy', 'khal', 'trevor', 'mohammad', 'george']\n"
          ],
          "name": "stdout"
        }
      ]
    },
    {
      "cell_type": "markdown",
      "metadata": {
        "id": "lydOzGvFVI_6",
        "colab_type": "text"
      },
      "source": [
        "\n",
        "\n",
        "### P3.PY\n",
        "\n",
        "\n"
      ]
    },
    {
      "cell_type": "code",
      "metadata": {
        "id": "86gQFKLNVI_7",
        "colab_type": "code",
        "outputId": "5be63e5f-ebf8-4188-92a2-60e02458c8e2",
        "colab": {
          "base_uri": "https://localhost:8080/",
          "height": 127
        }
      },
      "source": [
        "\"\"\"\n",
        "Math Operations\n",
        "\"\"\"\n",
        "\n",
        "# Save a list with the numbers `2`, `4`, `6`, and `8` into a variable called `numbers`. Use this variable for all the problems in this PSET.\n",
        "\n",
        "numbers = [2,4,6,8]\n",
        "print(numbers)\n",
        "\n",
        "# Print the max of `numbers`.\n",
        "\n",
        "print(max(numbers))\n",
        "\n",
        "# Pop the last element in `numbers` off; re-insert it at index `2` and print the resultant list.\n",
        "\n",
        "numbers.pop()\n",
        "numbers.insert(2, 8)\n",
        "print(numbers)\n",
        "\n",
        "# Pop the second number in `numbers` off.\n",
        "\n",
        "numbers.pop(1)\n",
        "print(numbers)\n",
        "\n",
        "# Append `3` to `numbers`.\n",
        "\n",
        "numbers.append(3)\n",
        "print(numbers)\n",
        "\n",
        "# Print out the average number.\n",
        "\n",
        "# import statistics\n",
        "print(statistics.mean(numbers))\n",
        "\n"
      ],
      "execution_count": 0,
      "outputs": [
        {
          "output_type": "stream",
          "text": [
            "[2, 4, 6, 8]\n",
            "8\n",
            "[2, 4, 8, 6]\n",
            "[2, 8, 6]\n",
            "[2, 8, 6, 3]\n",
            "4.75\n"
          ],
          "name": "stdout"
        }
      ]
    },
    {
      "cell_type": "markdown",
      "metadata": {
        "id": "KHhKfwIciELZ",
        "colab_type": "text"
      },
      "source": [
        "### **LIST MANIPULATION**"
      ]
    },
    {
      "cell_type": "markdown",
      "metadata": {
        "colab_type": "text",
        "id": "dISIbs3JjGln"
      },
      "source": [
        "### P1.PY"
      ]
    },
    {
      "cell_type": "code",
      "metadata": {
        "colab_type": "code",
        "id": "xxv1XDGYjGlt",
        "outputId": "50d70483-1963-4fe9-f225-75e0c7869c0c",
        "colab": {
          "base_uri": "https://localhost:8080/",
          "height": 35
        }
      },
      "source": [
        "\"\"\"\n",
        "Phone Numbers\n",
        "\"\"\"\n",
        "\n",
        "# Parse this phone number so that a computer can process\n",
        "# it. (Hint: It can't include any non-numeric\n",
        "# characters.)\n",
        "\n",
        "cell = '1.192.168.0143'\n",
        "\n",
        "cell = cell.split('.')\n",
        "cell = int(''.join(cell))\n",
        "print(cell)"
      ],
      "execution_count": 0,
      "outputs": [
        {
          "output_type": "stream",
          "text": [
            "11921680143\n"
          ],
          "name": "stdout"
        }
      ]
    },
    {
      "cell_type": "markdown",
      "metadata": {
        "colab_type": "text",
        "id": "fEpECmnWkTWY"
      },
      "source": [
        "\n",
        "\n",
        "### P2.PY\n",
        "\n",
        "\n"
      ]
    },
    {
      "cell_type": "code",
      "metadata": {
        "colab_type": "code",
        "id": "xNqbk51CkTWc",
        "outputId": "2514aea4-4ee7-4a04-9770-4b10d9c9bedd",
        "colab": {
          "base_uri": "https://localhost:8080/",
          "height": 146
        }
      },
      "source": [
        "\"\"\"\n",
        "Basic Math Ops\n",
        "\"\"\"\n",
        "\n",
        "# Given the list below, assign the correct values to the variables below.\n",
        "nums = [2, 19, 20, 12, 6, 24, 8, 30, 28, 25]\n",
        "\n",
        "import statistics\n",
        "\n",
        "my_sum = sum(nums)\n",
        "my_min = min(nums)\n",
        "my_max = max(nums)\n",
        "my_range = max(nums) - min(nums)\n",
        "my_mean = statistics.mean(nums)\n",
        "\n",
        "# Once you finish, print out each value **on its own line** in this format: \"my_median = \" etc.\n",
        "\n",
        "print(f'''\n",
        "my_sum = {my_sum}\n",
        "my_min = {my_min}\n",
        "my_max = {my_max}\n",
        "my_range = {my_range}\n",
        "my_mean = {my_mean}\n",
        "''')"
      ],
      "execution_count": 0,
      "outputs": [
        {
          "output_type": "stream",
          "text": [
            "\n",
            "my_sum = 174\n",
            "my_min = 2\n",
            "my_max = 30\n",
            "my_range = 28\n",
            "my_mean = 17.4\n",
            "\n"
          ],
          "name": "stdout"
        }
      ]
    },
    {
      "cell_type": "markdown",
      "metadata": {
        "colab_type": "text",
        "id": "bJW-HerCn5zV"
      },
      "source": [
        "\n",
        "\n",
        "### P3.PY\n",
        "\n",
        "\n"
      ]
    },
    {
      "cell_type": "code",
      "metadata": {
        "id": "xn74jepCnoH8",
        "colab_type": "code",
        "outputId": "79a6b0dd-0e2e-4e4e-84f2-9a7ce798bd08",
        "colab": {
          "base_uri": "https://localhost:8080/",
          "height": 109
        }
      },
      "source": [
        "\"\"\"\n",
        "Merge Lists with Duplicates\n",
        "\"\"\"\n",
        "\n",
        "# Use the two lists below to solve this problem. Print out the result from each section as you go along.\n",
        "\n",
        "list1, list2 = [2, 8, 6], [10, 4, 12]\n",
        "\n",
        "# A) Add another instance of each item in list1 to list1 again and assign the results to list3.\n",
        "list3 = list1 * 2\n",
        "print(list3)\n",
        "\n",
        "\n",
        "# B) Combine the two given lists and assign them to list4.\n",
        "list4 = list2 + list3\n",
        "print(list4)\n",
        "\n",
        "# C) Replace the first 3 items in list 3 with the numbers 13, 16, 9.\n",
        "print(list3)\n",
        "list3[:3] = [13, 16, 19]\n",
        "print(list3)\n",
        "\n",
        "# D) Merge list3 and list4 to create a list containing no duplicates and store this in list5.\n",
        "list5 = set(list3 + list4)\n",
        "list5 = list(list5)\n",
        "print(list5)\n",
        "\n",
        "\n",
        "# Take a look at your printed statements to see the evolution of your lists with each step of this problem."
      ],
      "execution_count": 0,
      "outputs": [
        {
          "output_type": "stream",
          "text": [
            "[2, 8, 6, 2, 8, 6]\n",
            "[10, 4, 12, 2, 8, 6, 2, 8, 6]\n",
            "[2, 8, 6, 2, 8, 6]\n",
            "[13, 16, 19, 2, 8, 6]\n",
            "[2, 4, 6, 8, 10, 12, 13, 16, 19]\n"
          ],
          "name": "stdout"
        }
      ]
    },
    {
      "cell_type": "markdown",
      "metadata": {
        "colab_type": "text",
        "id": "9_45Ttx97Mbj"
      },
      "source": [
        "\n",
        "\n",
        "### P4.PY\n",
        "\n",
        "\n"
      ]
    },
    {
      "cell_type": "code",
      "metadata": {
        "id": "kqSgCo-r7QZ9",
        "colab_type": "code",
        "outputId": "b85ab704-8fd7-4227-e900-8704475a204c",
        "colab": {
          "base_uri": "https://localhost:8080/",
          "height": 164
        }
      },
      "source": [
        "\"\"\"\n",
        "Cool Runnings!\n",
        "\"\"\"\n",
        "\n",
        "# Here's a quote from the movie 'Cool Runnings'. :)\n",
        "\n",
        "# Replace the word bobsled with \"YOLO\" and print the resultant list as 4 sentences (i.e. NOT a list), each on a new line.\n",
        "\n",
        "cool_runnings = [\n",
        "\t'Feel', 'the', 'rhythm.',\n",
        "\t'Feel', 'the', 'rhyme.',\n",
        "\t'Get', 'on', 'up.',\n",
        "\t'It\\'s', 'bobsled', 'time!'\n",
        "]\n",
        "\n",
        "cool_runnings[10] = \"Yolo\"\n",
        "print(cool_runnings)\n",
        "print()\n",
        "l1 = cool_runnings[:3]\n",
        "l1 = ' '.join(l1)\n",
        "l2 = cool_runnings[3:6]\n",
        "l2 = ' '.join(l2)\n",
        "l3 = cool_runnings[6:9]\n",
        "l3 = ' '.join(l3)\n",
        "l4 = cool_runnings[9:]\n",
        "l4 = ' '.join(l4)\n",
        "\n",
        "print(f'''\n",
        "{l1}\n",
        "{l2}\n",
        "{l3}\n",
        "{l4}\n",
        "''')"
      ],
      "execution_count": 0,
      "outputs": [
        {
          "output_type": "stream",
          "text": [
            "['Feel', 'the', 'rhythm.', 'Feel', 'the', 'rhyme.', 'Get', 'on', 'up.', \"It's\", 'Yolo', 'time!']\n",
            "\n",
            "\n",
            "Feel the rhythm.\n",
            "Feel the rhyme.\n",
            "Get on up.\n",
            "It's Yolo time!\n",
            "\n"
          ],
          "name": "stdout"
        }
      ]
    },
    {
      "cell_type": "markdown",
      "metadata": {
        "id": "m40a2IGVVI_-",
        "colab_type": "text"
      },
      "source": [
        "\n",
        "\n",
        "## SORTING\n",
        "\n",
        "\n"
      ]
    },
    {
      "cell_type": "markdown",
      "metadata": {
        "id": "2XYhGsPjVUx8",
        "colab_type": "text"
      },
      "source": [
        "### P1.PY"
      ]
    },
    {
      "cell_type": "code",
      "metadata": {
        "id": "NRi8DF1eVI_-",
        "colab_type": "code",
        "outputId": "d7755821-93d7-4ca9-af83-87f751ae4f44",
        "colab": {
          "base_uri": "https://localhost:8080/",
          "height": 54
        }
      },
      "source": [
        "\"\"\"\n",
        "Spotify Playlists - Sorting\n",
        "\"\"\"\n",
        "\n",
        "# You work for Spotify and are creating a feature for users to alphabetize their playlists by song title. Below is a list of titles from a sample playlist.\n",
        "\n",
        "playlist_titles = ['Tiny Dancer', 'At Last', 'Fortunate Son', \n",
        "'Hey Jude', 'Isn\\'t She Lovely', 'Just the Way You Are', 'I\\'m Yours',\n",
        "'Vienna', 'Roxanne', 'Dancing in the Moonlight']\n",
        "\n",
        "# Alphabetize these songs and print the result.\n",
        "\n",
        "playlist_titles.sort()\n",
        "print(playlist_titles)\n",
        "\n",
        "# Now do the reverse.\n",
        "\n",
        "playlist_titles.sort(reverse = True)\n",
        "print(playlist_titles)"
      ],
      "execution_count": 0,
      "outputs": [
        {
          "output_type": "stream",
          "text": [
            "['At Last', 'Dancing in the Moonlight', 'Fortunate Son', 'Hey Jude', \"I'm Yours\", \"Isn't She Lovely\", 'Just the Way You Are', 'Roxanne', 'Tiny Dancer', 'Vienna']\n",
            "['Vienna', 'Tiny Dancer', 'Roxanne', 'Just the Way You Are', \"Isn't She Lovely\", \"I'm Yours\", 'Hey Jude', 'Fortunate Son', 'Dancing in the Moonlight', 'At Last']\n"
          ],
          "name": "stdout"
        }
      ]
    },
    {
      "cell_type": "markdown",
      "metadata": {
        "id": "0xVs38QYVJAA",
        "colab_type": "text"
      },
      "source": [
        "\n",
        "\n",
        "### P2.PY\n",
        "\n",
        "\n"
      ]
    },
    {
      "cell_type": "code",
      "metadata": {
        "id": "VXtT3BB0VJAB",
        "colab_type": "code",
        "outputId": "2d05c1c3-5c0a-40eb-c0ae-fe6fc5811166",
        "colab": {
          "base_uri": "https://localhost:8080/",
          "height": 34
        }
      },
      "source": [
        "\"\"\"\n",
        "Ordering Random Numbers\n",
        "\"\"\"\n",
        "\n",
        "# Create a list of 6 randomly generated numbers called numbers and sort it in descending order.\n",
        "\n",
        "numbers = [-90,0,-80,100,6,2]\n",
        "numbers.sort(reverse = True)\n",
        "print(numbers)\n"
      ],
      "execution_count": 0,
      "outputs": [
        {
          "output_type": "stream",
          "text": [
            "[100, 6, 2, 0, -80, -90]\n"
          ],
          "name": "stdout"
        }
      ]
    },
    {
      "cell_type": "markdown",
      "metadata": {
        "id": "cN7amwMkVJAR",
        "colab_type": "text"
      },
      "source": [
        "[link text](https://)## LIST MANIPULATION\n"
      ]
    },
    {
      "cell_type": "markdown",
      "metadata": {
        "id": "ImDqbHx5VY4P",
        "colab_type": "text"
      },
      "source": [
        "### P1.PY"
      ]
    },
    {
      "cell_type": "code",
      "metadata": {
        "id": "z8OOTUg6VJAT",
        "colab_type": "code",
        "outputId": "15255e17-0ce9-4c2a-82a2-dafadec2157f",
        "colab": {
          "base_uri": "https://localhost:8080/",
          "height": 34
        }
      },
      "source": [
        "\"\"\"\n",
        "Phone Numbers\n",
        "\"\"\"\n",
        "\n",
        "# Parse this phone number so that a computer can process\n",
        "# it. (Hint: It can't include any non-numeric\n",
        "# characters.)\n",
        "\n",
        "cell = '1.192.168.0143'\n",
        "\n",
        "\n",
        "cell = cell.split('.')\n",
        "cell = int(''.join(cell))\n",
        "\n",
        "print(cell) # 11921680143\n"
      ],
      "execution_count": 0,
      "outputs": [
        {
          "output_type": "stream",
          "text": [
            "11921680143\n"
          ],
          "name": "stdout"
        }
      ]
    },
    {
      "cell_type": "markdown",
      "metadata": {
        "id": "HpUeu1YiVJAX",
        "colab_type": "text"
      },
      "source": [
        "\n",
        "\n",
        "### P2.PY\n",
        "\n",
        "\n"
      ]
    },
    {
      "cell_type": "code",
      "metadata": {
        "id": "O1ZpW64qVJAa",
        "colab_type": "code",
        "outputId": "b5162fdf-fab5-4fe3-d0fb-52e39e0f9550",
        "colab": {
          "base_uri": "https://localhost:8080/",
          "height": 136
        }
      },
      "source": [
        "\"\"\"\n",
        "Basic Math Ops\n",
        "\"\"\"\n",
        "\n",
        "# Given the list below, assign the correct values to the variables below.\n",
        "\t# my_sum = \n",
        "\t# my_min = \n",
        "\t# my_max = \n",
        "\t# my_range = \n",
        "\t# my_mean =\n",
        "\n",
        "nums = [2, 19, 20, 12, 6, 24, 8, 30, 28, 25]\n",
        "\n",
        "my_sum = sum(nums)\n",
        "my_min = min(nums)\n",
        "my_max = max(nums)\n",
        "my_range = max(nums) - min(nums)\n",
        "my_mean = sum(nums) / len(nums)\n",
        "\n",
        "print(f'''\n",
        "\tmy_sum = {my_sum}\n",
        "\tmy_min = {my_min}\t\n",
        "\tmy_max = {my_max}\n",
        "\tmy_range = {my_range}\n",
        "\tmy_mean = {my_mean}\n",
        "''')\n",
        "\n",
        "# Once you finish, print out each value **on its own line** in this format: \"my_median = \" etc.\n",
        "\n"
      ],
      "execution_count": 0,
      "outputs": [
        {
          "output_type": "stream",
          "text": [
            "\n",
            "\tmy_sum = 174\n",
            "\tmy_min = 2\t\n",
            "\tmy_max = 30\n",
            "\tmy_range = 28\n",
            "\tmy_mean = 17.4\n",
            "\n"
          ],
          "name": "stdout"
        }
      ]
    },
    {
      "cell_type": "markdown",
      "metadata": {
        "id": "X3BMzIHyVJAd",
        "colab_type": "text"
      },
      "source": [
        "\n",
        "\n",
        "### P3.PY\n",
        "\n",
        "\n"
      ]
    },
    {
      "cell_type": "code",
      "metadata": {
        "id": "jz3ccPm3VJAe",
        "colab_type": "code",
        "outputId": "724518f8-6105-4d79-af95-6a49c98725d1",
        "colab": {
          "base_uri": "https://localhost:8080/",
          "height": 85
        }
      },
      "source": [
        "\"\"\"\n",
        "Merge Lists with Duplicates\n",
        "\"\"\"\n",
        "\n",
        "# Use the two lists below to solve this problem. Print out the result from each section as you go along.\n",
        "\n",
        "list1, list2 = [2, 8, 6], [10, 4, 12]\n",
        "\n",
        "# A) Add another instance of each item in list1 to list1 again and assign the results to list3.\n",
        "list3 = list1 * 2\n",
        "print(list3)\n",
        "\n",
        "# B) Combine the two given lists and assign them to list4.\n",
        "list4 = list1 + list2\n",
        "print(list4)\n",
        "\n",
        "\n",
        "# C) Replace the first 3 items in list 3 with the numbers 13, 16, 9.\n",
        "list3[:3] = [13,16,9]\n",
        "print(list3)\n",
        "\n",
        "# D) Merge list3 and list4 to create a list containing no duplicates and store this in list5.\n",
        "list5 = list(set(list3 + list4))\n",
        "print(list5)\n",
        "\n",
        "\n",
        "# Take a look at your printed statements to see the evolution of your lists with each step of this problem.\n"
      ],
      "execution_count": 0,
      "outputs": [
        {
          "output_type": "stream",
          "text": [
            "[2, 8, 6, 2, 8, 6]\n",
            "[2, 8, 6, 10, 4, 12]\n",
            "[13, 16, 9, 2, 8, 6]\n",
            "[2, 4, 6, 8, 9, 10, 12, 13, 16]\n"
          ],
          "name": "stdout"
        }
      ]
    },
    {
      "cell_type": "markdown",
      "metadata": {
        "id": "Qqtm5kHYVJAg",
        "colab_type": "text"
      },
      "source": [
        "\n",
        "\n",
        "### P4.PY\n",
        "\n",
        "\n"
      ]
    },
    {
      "cell_type": "code",
      "metadata": {
        "id": "wgF_gvjVVJAh",
        "colab_type": "code",
        "outputId": "1d8f9c61-59e2-4443-e450-3e3ddd68bc89",
        "colab": {
          "base_uri": "https://localhost:8080/",
          "height": 153
        }
      },
      "source": [
        "\"\"\"\n",
        "Cool Runnings!\n",
        "\"\"\"\n",
        "\n",
        "# Here's a quote from the movie 'Cool Runnings'. :)\n",
        "\n",
        "# Replace the word bobsled with \"YOLO\" and print the resultant list as 4 sentences (i.e. NOT a list), each on a new line.\n",
        "\n",
        "cool_runnings = [\n",
        "\t'Feel', 'the', 'rhythm.',\n",
        "\t'Feel', 'the', 'rhyme.',\n",
        "\t'Get', 'on', 'up.',\n",
        "\t'It\\'s', 'bobsled', 'time!'\n",
        "]\n",
        "\n",
        "cool_runnings[bobsled] = 'YOLO'\n",
        "print(cool_runnings)\n",
        "\n",
        "l1 = cool_runnings[:3]\n",
        "l1 = ' '.join(l1)\n",
        "\n",
        "l2 = cool_runnings[3:6]\n",
        "l2 = ' '.join(l2)\n",
        "\n",
        "l3 = cool_runnings[6:9]\n",
        "l3 = ' '.join(l3)\n",
        "\n",
        "l4 = cool_runnings[9:12]\n",
        "l4 = ' '.join(l4)\n",
        "\n",
        "print(f'''\n",
        "{l1}\n",
        "{l2}\n",
        "{l3}\n",
        "{l4}\n",
        "''')\n",
        "\n",
        "print(type(l1))"
      ],
      "execution_count": 0,
      "outputs": [
        {
          "output_type": "stream",
          "text": [
            "['Feel', 'the', 'rhythm.', 'Feel', 'the', 'rhyme.', 'Get', 'on', 'up.', \"It's\", 'YOLO', 'time!']\n",
            "\n",
            "Feel the rhythm.\n",
            "Feel the rhyme.\n",
            "Get on up.\n",
            "It's YOLO time!\n",
            "\n",
            "<class 'str'>\n"
          ],
          "name": "stdout"
        }
      ]
    },
    {
      "cell_type": "markdown",
      "metadata": {
        "id": "fyknlYbQVJAj",
        "colab_type": "text"
      },
      "source": [
        "## LIST CHALLENGES\n",
        "\n",
        "\n"
      ]
    },
    {
      "cell_type": "markdown",
      "metadata": {
        "id": "qYrO5tA-VdxK",
        "colab_type": "text"
      },
      "source": [
        "### P1.PY"
      ]
    },
    {
      "cell_type": "code",
      "metadata": {
        "id": "R1ouYtGvVJAq",
        "colab_type": "code",
        "outputId": "b2d48959-3314-43eb-ff4f-64902c55f544",
        "colab": {
          "base_uri": "https://localhost:8080/",
          "height": 119
        }
      },
      "source": [
        "\"\"\"\n",
        "CHALLENGE - Extensions\n",
        "\"\"\"\n",
        "\n",
        "# ** Challenge** Add each element of the tuple1 to list1 *individually* and print the result.\n",
        "\n",
        "list1 = [6, 12, 9, 4, 10, 1]\n",
        "tuple1 = [(15,3), (6,2), (1, 8)]\n",
        "\n",
        "list1.insert(6, tuple1[0][0])\n",
        "print(list1)\n",
        "list1.insert(7, tuple1[0][1])\n",
        "print(list1)\n",
        "list1.insert(8,tuple1[1][0])\n",
        "print(list1)\n",
        "list1.insert(9,tuple1[1][1])\n",
        "print(list1)\n",
        "list1.insert(10,tuple1[2][0])\n",
        "print(list1)\n",
        "list1.insert(11,tuple1[2][1])\n",
        "print(list1)\n",
        "\n",
        "# https://www.programiz.com/python-programming/methods/list/insert"
      ],
      "execution_count": 0,
      "outputs": [
        {
          "output_type": "stream",
          "text": [
            "[6, 12, 9, 4, 10, 1, 15]\n",
            "[6, 12, 9, 4, 10, 1, 15, 3]\n",
            "[6, 12, 9, 4, 10, 1, 15, 3, 6]\n",
            "[6, 12, 9, 4, 10, 1, 15, 3, 6, 2]\n",
            "[6, 12, 9, 4, 10, 1, 15, 3, 6, 2, 1]\n",
            "[6, 12, 9, 4, 10, 1, 15, 3, 6, 2, 1, 8]\n"
          ],
          "name": "stdout"
        }
      ]
    },
    {
      "cell_type": "code",
      "metadata": {
        "id": "thmJZaVFQGCN",
        "colab_type": "code",
        "outputId": "3e2ac104-775e-43a3-842e-6a951c261d19",
        "colab": {
          "base_uri": "https://localhost:8080/",
          "height": 34
        }
      },
      "source": [
        "list1 = [6, 12, 9, 4, 10, 1]\n",
        "tuples = [(15,3), (6,2), (1, 8)]\n",
        "\n",
        "list2 = []\n",
        "list2.extend(tuple1[0])\n",
        "list2.extend(tuple1[1])\n",
        "list2.extend(tuple1[2])\n",
        "\n",
        "\n",
        "list1.extend(list2)\n",
        "print(list1)"
      ],
      "execution_count": 0,
      "outputs": [
        {
          "output_type": "stream",
          "text": [
            "[6, 12, 9, 4, 10, 1, 15, 3, 6, 2, 1, 8]\n"
          ],
          "name": "stdout"
        }
      ]
    },
    {
      "cell_type": "markdown",
      "metadata": {
        "id": "X5MSdZzXVJAt",
        "colab_type": "text"
      },
      "source": [
        "\n",
        "\n",
        "### P2.PY\n",
        "\n",
        "\n"
      ]
    },
    {
      "cell_type": "code",
      "metadata": {
        "id": "xyu2RSZcVJAt",
        "colab_type": "code",
        "outputId": "d51c28fe-3beb-42e3-9ccf-bc04955ac0b3",
        "colab": {
          "base_uri": "https://localhost:8080/",
          "height": 136
        }
      },
      "source": [
        "\"\"\"\n",
        "CHALLENGE - Core Statistics Calculations\n",
        "\"\"\"\n",
        "\n",
        "# Given the sample below, find the mean, median, mode, variance, and standard deviation of this sample. Print them out separately, but in the same format as before.\n",
        "\t# my_median = \n",
        "\t# my_mode = \n",
        "\t# my_variance = \n",
        "\t# my_sd = \n",
        "\n",
        "sample = [6, 19, 20, 12, 6, 24, 8, 30, 28, 25]\n",
        "\n",
        "import statistics\n",
        "mean = statistics.mean(sample)\n",
        "median = statistics.median(sample)\n",
        "mode = statistics.mode(sample)\n",
        "variance = statistics.variance(sample)\n",
        "sd = statistics.stdev(sample)\n",
        "\n",
        "# Once you finish, print out each value **on its own line** in this format: \"median = \" etc.\n",
        "\n",
        "print(f'''\n",
        "mean = {mean}\n",
        "median = {median}\n",
        "mode = {mode}\n",
        "variance = {format(variance, '.2f')}\n",
        "sd = {format(sd, '.2f')}\n",
        "''')"
      ],
      "execution_count": 0,
      "outputs": [
        {
          "output_type": "stream",
          "text": [
            "\n",
            "mean = 17.8\n",
            "median = 19.5\n",
            "mode = 6\n",
            "variance = 84.18\n",
            "sd = 9.17\n",
            "\n"
          ],
          "name": "stdout"
        }
      ]
    },
    {
      "cell_type": "code",
      "metadata": {
        "id": "xtTtPrA6JM6P",
        "colab_type": "code",
        "outputId": "7f7cec07-6dd1-4f0c-9f16-a18b69c53dbc",
        "colab": {
          "base_uri": "https://localhost:8080/",
          "height": 72
        }
      },
      "source": [
        "\"\"\"\n",
        "Phone Numbers\n",
        "\"\"\"\n",
        "\n",
        "# Parse this phone number so that a computer can process\n",
        "# it. (Hint: It can't include any non-numeric\n",
        "# characters.)\n",
        "\n",
        "cell = '1.192.168.0143'\n",
        "cell_as_list = cell.split(\".\")\n",
        "print(cell_as_list)\n",
        "cell_without_dots = \"\".join(cell_as_list)\n",
        "print(cell_without_dots)\n",
        "cell_as_num = int(cell_without_dots)\n",
        "\n",
        "print(cell_as_num)"
      ],
      "execution_count": 0,
      "outputs": [
        {
          "output_type": "stream",
          "text": [
            "['1', '192', '168', '0143']\n",
            "11921680143\n",
            "11921680143\n"
          ],
          "name": "stdout"
        }
      ]
    }
  ]
}