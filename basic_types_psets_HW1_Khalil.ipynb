{
  "nbformat": 4,
  "nbformat_minor": 0,
  "metadata": {
    "colab": {
      "name": "basic_data_types_psets - Khalil.ipynb",
      "provenance": [],
      "collapsed_sections": [
        "poqjlnEOVrWh"
      ],
      "toc_visible": true,
      "include_colab_link": true
    },
    "kernelspec": {
      "name": "python3",
      "display_name": "Python 3"
    }
  },
  "cells": [
    {
      "cell_type": "markdown",
      "metadata": {
        "id": "view-in-github",
        "colab_type": "text"
      },
      "source": [
        "<a href=\"https://colab.research.google.com/github/khalilabdulnour/PYTH225_Homework/blob/master/basic_types_psets_HW1_Khalil.ipynb\" target=\"_parent\"><img src=\"https://colab.research.google.com/assets/colab-badge.svg\" alt=\"Open In Colab\"/></a>"
      ]
    },
    {
      "cell_type": "markdown",
      "metadata": {
        "id": "hFmxhgDQVrV8",
        "colab_type": "text"
      },
      "source": [
        "#  BASIC DATA TYPES\n",
        "\n"
      ]
    },
    {
      "cell_type": "markdown",
      "metadata": {
        "id": "uayAR97cWGX1",
        "colab_type": "text"
      },
      "source": [
        "## EASY"
      ]
    },
    {
      "cell_type": "markdown",
      "metadata": {
        "id": "CXt8F7evWHum",
        "colab_type": "text"
      },
      "source": [
        "### P1.PY"
      ]
    },
    {
      "cell_type": "code",
      "metadata": {
        "id": "gYyR5LKAVrWA",
        "colab_type": "code",
        "outputId": "153aa91c-4589-46d3-b68e-403982ceead7",
        "colab": {
          "base_uri": "https://localhost:8080/",
          "height": 35
        }
      },
      "source": [
        "\"\"\"\n",
        "Placeholders\n",
        "\"\"\"\n",
        "\n",
        "# You're writing a program, and you don't know what your starting value for your 'initial' variable is yet. The program won't run if you leave it blank, but you don't want to forget you need it! Make a workaround.\n",
        "tbd = None\n",
        "print(tbd)\n"
      ],
      "execution_count": 0,
      "outputs": [
        {
          "output_type": "stream",
          "text": [
            "None\n"
          ],
          "name": "stdout"
        }
      ]
    },
    {
      "cell_type": "markdown",
      "metadata": {
        "id": "ujd4_d5VVrWD",
        "colab_type": "text"
      },
      "source": [
        "\n",
        "\n",
        "### P2.PY\n",
        "\n",
        "\n"
      ]
    },
    {
      "cell_type": "code",
      "metadata": {
        "id": "9p_mg-MjVrWE",
        "colab_type": "code",
        "outputId": "91607e04-a6de-458b-a101-402beb6cfb53",
        "colab": {
          "base_uri": "https://localhost:8080/",
          "height": 54
        }
      },
      "source": [
        "\"\"\"\n",
        "Basic Variables\n",
        "\"\"\"\n",
        "\n",
        "# Create a variable that represents your favorite number, and add a note to remind yourself what this variable represents. Now print it out without re-typing the number.\n",
        "\n",
        "fav_number = 29\n",
        "# favourite number is my age\n",
        "print(fav_number)\n",
        "\n",
        "\n",
        "# Create another variable that represents your favorite color, and do the same steps as above.\n",
        "\n",
        "# favourite colour\n",
        "fav_col = \"green\"\n",
        "print(fav_col)\n"
      ],
      "execution_count": 0,
      "outputs": [
        {
          "output_type": "stream",
          "text": [
            "29\n",
            "green\n"
          ],
          "name": "stdout"
        }
      ]
    },
    {
      "cell_type": "markdown",
      "metadata": {
        "id": "VbaMGAAYVrWH",
        "colab_type": "text"
      },
      "source": [
        "\n",
        "\n",
        "### P3.PY\n",
        "\n",
        "\n"
      ]
    },
    {
      "cell_type": "code",
      "metadata": {
        "id": "2i4mFvLGVrWI",
        "colab_type": "code",
        "outputId": "e7942c84-947b-4b0e-d953-d1e167ee31b2",
        "colab": {
          "base_uri": "https://localhost:8080/",
          "height": 119
        }
      },
      "source": [
        "\"\"\"\n",
        "String Formatting\n",
        "\"\"\"\n",
        "\n",
        "# Create a variable that contains the first 4 lines of lyrics from your favorite song. Add a comment that includes the song title and artist **each on their own line**! Now print out this variable.\n",
        "\n",
        "\"\"\"\n",
        "La Colegiala\n",
        "Rodolfo Aicardi\n",
        "\"\"\"\n",
        "\n",
        "fave_song = '''\n",
        "Hoy te he visto,\n",
        "Con tus libros caminando\n",
        "Y tu carita de coqueta,\n",
        "Colegiala de mi amor\n",
        "'''\n",
        "\n",
        "print(fave_song)\n",
        "\n"
      ],
      "execution_count": 0,
      "outputs": [
        {
          "output_type": "stream",
          "text": [
            "\n",
            "Hoy te he visto,\n",
            "Con tus libros caminando\n",
            "Y tu carita de coqueta,\n",
            "Colegiala de mi amor\n",
            "\n"
          ],
          "name": "stdout"
        }
      ]
    },
    {
      "cell_type": "markdown",
      "metadata": {
        "id": "poqjlnEOVrWh",
        "colab_type": "text"
      },
      "source": [
        "## OPERATORS\n",
        "\n",
        "\n",
        "\n"
      ]
    },
    {
      "cell_type": "markdown",
      "metadata": {
        "id": "3j0bS-HcWNLi",
        "colab_type": "text"
      },
      "source": [
        "### P1.PY"
      ]
    },
    {
      "cell_type": "code",
      "metadata": {
        "id": "poP19mJxVrWi",
        "colab_type": "code",
        "outputId": "365d6af1-dedc-47ba-832c-c38157a3b7a2",
        "colab": {
          "base_uri": "https://localhost:8080/",
          "height": 119
        }
      },
      "source": [
        "\"\"\"\n",
        "Game Show Score\n",
        "\"\"\"\n",
        "\n",
        "# Imagine the var below represents the latest score of a competitor on a game show. As this person plays, you need to update their score to reflect gains and \n",
        "# losses in points. Each math operation below dictates the change in the competitor's score to be made after each of his or her actions.\n",
        "\n",
        "# Complete the below math operations and print the results to show the changes in the competitor's score throughout the game.\n",
        "\n",
        "latest_score = 100\n",
        "print(latest_score)\n",
        "\n",
        "# Add 50\n",
        "\n",
        "latest_score += 50\n",
        "print(latest_score)\n",
        "\n",
        "# Subtract 90\n",
        "\n",
        "latest_score -= 90\n",
        "print(latest_score)\n",
        "\n",
        "# Multiply 10\n",
        "\n",
        "latest_score *= 10\n",
        "print(latest_score)\n",
        "\n",
        "# Divide 150\n",
        "\n",
        "latest_score /= 150\n",
        "print(latest_score)\n",
        "\n",
        "# Modulus 3\n",
        "\n",
        "latest_score %= 3\n",
        "print(latest_score)\n"
      ],
      "execution_count": 0,
      "outputs": [
        {
          "output_type": "stream",
          "text": [
            "100\n",
            "150\n",
            "60\n",
            "600\n",
            "4.0\n",
            "1.0\n"
          ],
          "name": "stdout"
        }
      ]
    },
    {
      "cell_type": "markdown",
      "metadata": {
        "id": "WAYZJHHgVrWk",
        "colab_type": "text"
      },
      "source": [
        "\n",
        "\n",
        "### P2.PY\n",
        "\n",
        "\n"
      ]
    },
    {
      "cell_type": "code",
      "metadata": {
        "id": "P067XIZ8VrWl",
        "colab_type": "code",
        "outputId": "90808ecd-3958-4404-808f-a49cf805c3da",
        "colab": {
          "base_uri": "https://localhost:8080/",
          "height": 34
        }
      },
      "source": [
        "\"\"\"\n",
        "String Operators\n",
        "\"\"\"\n",
        "\n",
        "# Create two variables, each of which is half of a compound sentence. \n",
        "## Example compound sentence: \"I'll go to the beach today, and I'll go snorkeling.\" \n",
        "\n",
        "var1 = \"it is \"\n",
        "var2 = \"what it is\"\n",
        "print(var1 + var2)\n"
      ],
      "execution_count": 0,
      "outputs": [
        {
          "output_type": "stream",
          "text": [
            "it is what it is\n"
          ],
          "name": "stdout"
        }
      ]
    },
    {
      "cell_type": "markdown",
      "metadata": {
        "id": "TqqaKHjuVrWn",
        "colab_type": "text"
      },
      "source": [
        "\n",
        "\n",
        "### P3.PY\n",
        "\n",
        "\n"
      ]
    },
    {
      "cell_type": "code",
      "metadata": {
        "id": "H7kysyPYVrWo",
        "colab_type": "code",
        "outputId": "b759b9b5-9dbf-4b1a-f074-09532577a164",
        "colab": {
          "base_uri": "https://localhost:8080/",
          "height": 85
        }
      },
      "source": [
        "\"\"\"\n",
        "Addition I - Numbers & Strings\n",
        "\"\"\"\n",
        "\n",
        "# Add the below sets of variables together without causing any Type Errors. \n",
        "\n",
        "# A)\n",
        "a = 0\n",
        "b = 2\n",
        "\n",
        "print(a + b)\n",
        "\n",
        "\n",
        "# B)\n",
        "c = '0'\n",
        "d = '2'\n",
        "\n",
        "print(c + d)\n",
        "print(int(c) + int(d))\n",
        "\n",
        "# C)\n",
        "e = '0'\n",
        "f = 2\n",
        "\n",
        "print(int(e) + f)"
      ],
      "execution_count": 0,
      "outputs": [
        {
          "output_type": "stream",
          "text": [
            "2\n",
            "02\n",
            "2\n",
            "2\n"
          ],
          "name": "stdout"
        }
      ]
    },
    {
      "cell_type": "markdown",
      "metadata": {
        "id": "T4rtuQ1CVrWr",
        "colab_type": "text"
      },
      "source": [
        "\n",
        "\n",
        "### P4.PY\n",
        "\n",
        "\n"
      ]
    },
    {
      "cell_type": "code",
      "metadata": {
        "id": "eCkVtKI8VrWs",
        "colab_type": "code",
        "outputId": "ca5c66f0-84f2-4b4a-b8e3-26325edb6f24",
        "colab": {
          "base_uri": "https://localhost:8080/",
          "height": 68
        }
      },
      "source": [
        "\"\"\"\n",
        "Addition II - Booleans\n",
        "\"\"\"\n",
        "\n",
        "# Add the below sets of variables together.\n",
        "\n",
        "# A)\n",
        "a = True\n",
        "b = True\n",
        "\n",
        "print(a + b)\n",
        "\n",
        "# B)\n",
        "c = False\n",
        "d = False\n",
        "\n",
        "print(c + d)\n",
        "\n",
        "# C)\n",
        "e = True\n",
        "f = False\n",
        "\n",
        "print(e + f)"
      ],
      "execution_count": 0,
      "outputs": [
        {
          "output_type": "stream",
          "text": [
            "2\n",
            "0\n",
            "1\n"
          ],
          "name": "stdout"
        }
      ]
    },
    {
      "cell_type": "markdown",
      "metadata": {
        "id": "0o8YPHxoVrWL",
        "colab_type": "text"
      },
      "source": [
        "## TYPECASTING\n",
        "\n"
      ]
    },
    {
      "cell_type": "markdown",
      "metadata": {
        "id": "XlNf2YptWKVu",
        "colab_type": "text"
      },
      "source": [
        "### P1.PY"
      ]
    },
    {
      "cell_type": "code",
      "metadata": {
        "id": "LDgWvrWzVrWM",
        "colab_type": "code",
        "outputId": "2d56b2e4-16ba-4ad7-a752-269fa96c0606",
        "colab": {
          "base_uri": "https://localhost:8080/",
          "height": 85
        }
      },
      "source": [
        "\"\"\"\n",
        "Typcasting w. Integers & Floats\n",
        "\"\"\"\n",
        "\n",
        "# Convert these numbers into floats and back. Print out each result as well as its data type.\n",
        "\n",
        "five = 5\n",
        "\n",
        "five = float(five)\n",
        "print((five), type(five))\n",
        "\n",
        "five = int(five)\n",
        "print((five), type(five))\n",
        "\n",
        "zero = 0\n",
        "zero = float(zero)\n",
        "print((zero), type(zero))\n",
        "\n",
        "zero = int(zero)\n",
        "print((zero), type(zero))\n",
        "\n",
        "neg_8 = -8\n",
        "neg_22 = -22"
      ],
      "execution_count": 0,
      "outputs": [
        {
          "output_type": "stream",
          "text": [
            "5.0 <class 'float'>\n",
            "5 <class 'int'>\n",
            "0.0 <class 'float'>\n",
            "0 <class 'int'>\n"
          ],
          "name": "stdout"
        }
      ]
    },
    {
      "cell_type": "markdown",
      "metadata": {
        "id": "HWOwfU00VrWS",
        "colab_type": "text"
      },
      "source": [
        "\n",
        "\n",
        "### P2.PY\n",
        "\n",
        "\n"
      ]
    },
    {
      "cell_type": "code",
      "metadata": {
        "id": "_5-k5J4mVrWT",
        "colab_type": "code",
        "outputId": "9009557b-76ed-4815-ac0f-3114cf81cfcc",
        "colab": {
          "base_uri": "https://localhost:8080/",
          "height": 153
        }
      },
      "source": [
        "\"\"\"\n",
        "Typcasting w. Strings\n",
        "\"\"\"\n",
        "\n",
        "# Convert these variables into strings and then back to their original data types. Print out each result as well as its data type. What do you notice about the last one?\n",
        "\n",
        "five = 5\n",
        "zero = 0\n",
        "neg_8 = -8\n",
        "T = True\n",
        "F = False\n",
        "\n",
        "five = str(five)\n",
        "neg_8 = str(neg_8)\n",
        "T = str(T)\n",
        "F = str(F)\n",
        "\n",
        "print((five), type(five))\n",
        "print((neg_8),type(neg_8))\n",
        "print((T), type(T))\n",
        "print((F),type(F))\n",
        "\n",
        "five = int(five)\n",
        "neg_8 = int(neg_8)\n",
        "T = bool(True)\n",
        "F = bool(False)\n",
        "\n",
        "print((five),type(five))\n",
        "print((neg_8),type(neg_8))\n",
        "print((T), type(T))\n",
        "print((F),type(F))"
      ],
      "execution_count": 0,
      "outputs": [
        {
          "output_type": "stream",
          "text": [
            "5 <class 'str'>\n",
            "-8 <class 'str'>\n",
            "True <class 'str'>\n",
            "False <class 'str'>\n",
            "5 <class 'int'>\n",
            "-8 <class 'int'>\n",
            "True <class 'bool'>\n",
            "False <class 'bool'>\n"
          ],
          "name": "stdout"
        }
      ]
    },
    {
      "cell_type": "markdown",
      "metadata": {
        "id": "FO_LansxVrWV",
        "colab_type": "text"
      },
      "source": [
        "\n",
        "\n",
        "### P3.PY\n",
        "\n",
        "\n"
      ]
    },
    {
      "cell_type": "code",
      "metadata": {
        "id": "bSVcghffVrWW",
        "colab_type": "code",
        "outputId": "b97eabdf-08ae-4b79-e9e8-888163500794",
        "colab": {
          "base_uri": "https://localhost:8080/",
          "height": 182
        }
      },
      "source": [
        "\"\"\"\n",
        "Booleans I - Typecasting w. Numbers\n",
        "\"\"\"\n",
        "\n",
        "# A) Use typecasting to turn these variables into boolean values. Print the result and the datatype of the result. \n",
        "\n",
        "one = 1\n",
        "zero = 0\n",
        "\n",
        "one = bool(one)\n",
        "zero = bool(zero)\n",
        "\n",
        "print((one),type(one))\n",
        "print((zero),type(zero))\n",
        "\n",
        "# B) Use typecasting to turn the resultant variables from part A into floats. Print the result and the datatype of the result.\n",
        "\n",
        "one = float(one)\n",
        "zero = float(zero)\n",
        "\n",
        "print((one), type(one))\n",
        "print((zero),type(zero))\n",
        "\n",
        "# C) Use typecasting to turn the resultant variables from part B back into booleans. Print the result and the datatype of the result.\n",
        "\n",
        "one = bool(one)\n",
        "zero = bool(zero)\n",
        "\n",
        "print((one),type(one))\n",
        "print((zero), type(zero))\n",
        "            \n",
        "# D) Use typecasting to turn the resultant variables from part C into integers. Print the result and the datatype of the result.\n",
        "\n",
        "one = int(one)\n",
        "zero = int(zero)\n",
        "\n",
        "print((one), type(one))\n",
        "print((zero),type(zero))\n",
        "\n",
        "\n",
        "# E) Use typecasting to turn the variable below into a boolean value. Print the result and the datatype of the result. \n",
        "\n",
        "ten = 10\n",
        "\n",
        "ten = bool(ten)\n",
        "print((ten),type(ten))\n"
      ],
      "execution_count": 0,
      "outputs": [
        {
          "output_type": "stream",
          "text": [
            "True <class 'bool'>\n",
            "False <class 'bool'>\n",
            "1.0 <class 'float'>\n",
            "0.0 <class 'float'>\n",
            "True <class 'bool'>\n",
            "False <class 'bool'>\n",
            "1 <class 'int'>\n",
            "0 <class 'int'>\n",
            "True <class 'bool'>\n"
          ],
          "name": "stdout"
        }
      ]
    },
    {
      "cell_type": "markdown",
      "metadata": {
        "id": "Q7lEbfSQVrWc",
        "colab_type": "text"
      },
      "source": [
        "\n",
        "\n",
        "### P4.PY\n",
        "\n",
        "\n"
      ]
    },
    {
      "cell_type": "code",
      "metadata": {
        "id": "YFLt2TDXVrWf",
        "colab_type": "code",
        "outputId": "3f773768-eeb8-468d-bbe8-b8f0be92c3ae",
        "colab": {
          "base_uri": "https://localhost:8080/",
          "height": 35
        }
      },
      "source": [
        "\"\"\"\n",
        "Booleans II - Typecasting w. Strings\n",
        "\"\"\"\n",
        "\n",
        "# A) Use typecasting to turn these variables into boolean values. Print the result and the datatype of the result. \n",
        "\n",
        "one = 1\n",
        "zero = 0\n",
        "T = True\n",
        "F = False\n",
        "\n",
        "# T = bool(T)\n",
        "F = bool(F)\n",
        "\n",
        "print((T), type(T))\n",
        "\n",
        "# B) Use typecasting to turn the latest values for variables 'one' and 'zero' back into integers. Print the result and the datatype of the result.\n",
        "\n",
        "\n",
        "\n",
        "# C) Use typecasting to turn the latest values for variables 'T' and 'F' back into boolean values. Print the result and the datatype of the result.\n",
        "\n",
        "\n",
        "\n",
        "\n"
      ],
      "execution_count": 0,
      "outputs": [
        {
          "output_type": "stream",
          "text": [
            "True <class 'bool'>\n"
          ],
          "name": "stdout"
        }
      ]
    },
    {
      "cell_type": "markdown",
      "metadata": {
        "id": "pRORE6K8VrWy",
        "colab_type": "text"
      },
      "source": [
        "## SHOPPING_LIST\n",
        "\n",
        "\n"
      ]
    },
    {
      "cell_type": "markdown",
      "metadata": {
        "id": "sX291wpjWQea",
        "colab_type": "text"
      },
      "source": [
        "### P1.PY"
      ]
    },
    {
      "cell_type": "code",
      "metadata": {
        "id": "kH5HZBmiVrWy",
        "colab_type": "code",
        "outputId": "93acd076-6795-4e5d-f15a-9ede7bdc28e6",
        "colab": {
          "base_uri": "https://localhost:8080/",
          "height": 146
        }
      },
      "source": [
        "\"\"\"\n",
        "Shopping List Calculator I\n",
        "\"\"\"\n",
        "\n",
        "# Create five variables,\n",
        "# set them to strings that represent 5 common shopping list items\n",
        "\n",
        "\n",
        "item_name_1 = 'olives'\n",
        "item_name_2 = 'cheese'\n",
        "item_name_3 = 'tomato'\n",
        "item_name_4 = 'napkin'\n",
        "item_name_5 = 'soap'\n",
        "\n",
        "# Create five more variables,\n",
        "# set them to floats that represent the prices of each of the items above\n",
        "\n",
        "item_price_1 = .4\n",
        "item_price_2 = 3.56\n",
        "item_price_3 = .1\n",
        "item_price_4 = 4.01\n",
        "item_price_5 = .92\n",
        "\n",
        "# Create five more variables,\n",
        "# set them to ints that represent the quantity of each of the items above\n",
        "item_quant_1 = 15\n",
        "item_quant_2 = 1\n",
        "item_quant_3 = 5\n",
        "item_quant_4 = 2\n",
        "item_quant_5 = 3\n",
        "\n",
        "# Print to the console the name and price of each item defined above as follows:\n",
        "# 1 Coco Puffs = $8.95.\n",
        "# where:\n",
        "# 1 would be item_quant_1\n",
        "# Coco Puffs would be item_name_1\n",
        "# 8.95 would be item_name_2\n",
        "\n",
        "total1 = (f'{item_price_1 * item_quant_1:.2f}')\n",
        "total2 = format(item_price_2 * item_quant_2, '.2f')\n",
        "total3 = format(item_price_3 * item_quant_3, '.2f')\n",
        "total4 = format(item_price_4 * item_quant_4, '.2f')\n",
        "total5 = format(item_price_5 * item_quant_5, '.2f')\n",
        "\n",
        "print(f'''\n",
        "{item_quant_1} {item_name_1} = ${total1}\n",
        "{item_quant_2} {item_name_2} = ${total2}\n",
        "{item_quant_3} {item_name_3} = ${total3}\n",
        "{item_quant_4} {item_name_4} = ${total4}\n",
        "{item_quant_5} {item_name_5} = ${total5}\n",
        "''')"
      ],
      "execution_count": 0,
      "outputs": [
        {
          "output_type": "stream",
          "text": [
            "\n",
            "15 olives = $6.00\n",
            "1 cheese = $3.56\n",
            "5 tomato = $0.50\n",
            "2 napkin = $8.02\n",
            "3 soap = $2.76\n",
            "\n"
          ],
          "name": "stdout"
        }
      ]
    },
    {
      "cell_type": "markdown",
      "metadata": {
        "id": "tr50TO3xVrW1",
        "colab_type": "text"
      },
      "source": [
        "\n",
        "\n",
        "### P2.PY\n",
        "\n",
        "\n"
      ]
    },
    {
      "cell_type": "code",
      "metadata": {
        "id": "_6WnvYbpVrW2",
        "colab_type": "code",
        "outputId": "2b7d8700-fba3-4f64-c34e-09c14755a909",
        "colab": {
          "base_uri": "https://localhost:8080/",
          "height": 421
        }
      },
      "source": [
        "\"\"\"\n",
        "Shopping List Calculator II\n",
        "\"\"\"\n",
        "\n",
        "# Rewrite p1, but this time use the input() command to solicit user input for name, price, quantity. Here's how it works:\n",
        "\n",
        "# item_name_1 = input('Name your first item: ') \n",
        "\t# ^ this will ask user to input value of item_name_1\n",
        "\n",
        "# use input() function and ask user to name items\n",
        "item_name_1 = input('name your first item: ')\n",
        "item_name_2 = input('name your second item: ')\n",
        "item_name_3 = input('name your third item: ')\n",
        "item_name_4 = input('name your fourth item: ')\n",
        "item_name_5 = input('name your fifth item: ')\n",
        "\n",
        "# use input() function and ask user to name prices\n",
        "item_price_1 = float(input(f'how much does {item_name_1} cost? '))\n",
        "item_price_2 = float(input(f'how much does {item_name_2} cost? '))\n",
        "item_price_3 = float(input(f'how much does {item_name_3} cost? '))\n",
        "item_price_4 = float(input(f'how much does {item_name_4} cost? '))\n",
        "item_price_5 = float(input(f'how much does {item_name_5} cost? '))\n",
        "\n",
        "# use input() function and ask user to name quants\n",
        "item_quant_1 = int(input(f'how many {item_name_1} do you want? '))\n",
        "item_quant_2 = int(input(f'how many {item_name_2} do you want? '))\n",
        "item_quant_3 = int(input(f'how many {item_name_3} do you want? '))\n",
        "item_quant_4 = int(input(f'how many {item_name_4} do you want? '))\n",
        "item_quant_5 = int(input(f'how many {item_name_5} do you want? '))\n",
        "\n",
        "# Print to the console the name and price of each item defined above as follows:\n",
        "# 1 Coco Puffs = $8.95.\n",
        "# where:\n",
        "# 1 would be item_quant_1\n",
        "# Coco Puffs would be item_name_1\n",
        "# 8.95 would be item_name_2\n",
        "\n",
        "# JUST REMEMBER: now this will be defined by the user!!\n",
        "\n",
        "totala = format(item_price_1 * item_quant_1, '.2f')\n",
        "totalb = format(item_price_2 * item_quant_2, '.2f')\n",
        "totalc = format(item_price_3 * item_quant_3, '.2f')\n",
        "totald = format(item_price_4 * item_quant_4, '.2f')\n",
        "totale = format(item_price_5 * item_quant_5, '.2f')\n",
        "\n",
        "print(f'''\n",
        "{item_quant_1} {item_name_1} = ${totala}\n",
        "{item_quant_2} {item_name_2} = ${totalb}\n",
        "{item_price_3} {item_name_3} = ${totalc}\n",
        "{item_quant_4} {item_name_4} = ${totald}\n",
        "{item_quant_5} {item_name_5} = ${totale}\n",
        "''')\n",
        "\n"
      ],
      "execution_count": 0,
      "outputs": [
        {
          "output_type": "stream",
          "text": [
            "name your first item: apple\n",
            "name your second item: banana\n",
            "name your third item: tomato\n",
            "name your fourth item: pear\n",
            "name your fifth item: melon\n",
            "how much does apple cost? .74\n",
            "how much does banana cost? .63\n",
            "how much does tomato cost? .52\n",
            "how much does pear cost? .65\n",
            "how much does melon cost? 2.08\n",
            "how many apple do you want? 2\n",
            "how many banana do you want? 5\n",
            "how many tomato do you want? 4\n",
            "how many pear do you want? 3\n",
            "how many melon do you want? 1\n",
            "\n",
            "2 apple = $1.48\n",
            "5 banana = $3.15\n",
            "0.52 tomato = $2.08\n",
            "3 pear = $1.95\n",
            "1 melon = $2.08\n",
            "\n"
          ],
          "name": "stdout"
        }
      ]
    },
    {
      "cell_type": "markdown",
      "metadata": {
        "id": "vgZcfv-zVrW4",
        "colab_type": "text"
      },
      "source": [
        "\n",
        "\n"
      ]
    }
  ]
}